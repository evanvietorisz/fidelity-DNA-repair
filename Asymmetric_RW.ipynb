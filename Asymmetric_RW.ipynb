{
 "cells": [
  {
   "cell_type": "code",
   "execution_count": null,
   "metadata": {},
   "outputs": [],
   "source": [
    "# June 12\n",
    "#Program to solve for different parameter combinations that lead to stable-degrading solutions of f(x)\n",
    "\n",
    "from scipy.optimize import fsolve\n",
    "from math import exp\n",
    "import numpy as np\n",
    "\n",
    "# using the left-side solution centered at x = 0\n",
    "def unbinding_rate(p,r,L):\n",
    "    # note: the point one bp to the left of center is -1 for all L\n",
    "    _ = (((1/p - 1)*r - 1)*exp(((1/p - 1)*r - 1)*(-1)))/(1 - exp(((1/p - 1)*r - 1)*(-L/2)))\n",
    "    return(_)\n",
    "\n",
    "# value of unbinding rate above which the system is stable-degrading (and under which system is stable)\n",
    "\n",
    "#program\n",
    "\n",
    "p = .6 # prob of rw stepping outwards\n",
    "r = 1.2 #ratio of rate going towards 3' end over rate going towards 5' end\n",
    "#L is the variable\n",
    "\n",
    "####wait lol it's not a trancendental eqn for L. revisit this if it's relevant (to find p,r for fixed L)"
   ]
  },
  {
   "cell_type": "code",
   "execution_count": 2,
   "metadata": {},
   "outputs": [
    {
     "data": {
      "image/png": "[encoded data removed]",
      "text/plain": [
       "<Figure size 432x288 with 1 Axes>"
      ]
     },
     "metadata": {
      "needs_background": "light"
     },
     "output_type": "display_data"
    }
   ],
   "source": [
    "#June 12\n",
    "\n",
    "#plot values of L above that make an asymmetrical rw system stable (as opposed to stable-decaying)\n",
    "\n",
    "#done for LEFT side solution of a system centered at x = 0\n",
    "\n",
    "from math import log, exp\n",
    "import numpy as np\n",
    "import matplotlib.pyplot as plt\n",
    "\n",
    "def alpha(p,r):\n",
    "    _ = (1/p - 1)*r - 1\n",
    "    return(_)\n",
    "\n",
    "def func(p,r,thresh):\n",
    "    _ = -2/alpha(p,r) * log(1 - alpha(p,r)/thresh*exp(alpha(p,r)*(-1)))\n",
    "    return(_)\n",
    "\n",
    "###\n",
    "\n",
    "p_vals = [.51,.52,.53,.54,.55] #prob of a rw stepping out\n",
    "r_init = 1\n",
    "r_final = 1.03\n",
    "r_step = .005\n",
    "thresh = .0001 #value of unbinding rate above above which system is stable-degrading and below which system is stable\n",
    "\n",
    "r_vals = np.arange(r_init,r_final+r_step,r_step) #inclusive of r_final\n",
    "plt.figure(0)\n",
    "\n",
    "for p in p_vals:\n",
    "    \n",
    "    #shave off r values that will make the system unstable for all L (make f(x) concave up)\n",
    "    r_array = []\n",
    "    for r in r_vals:\n",
    "        if r < p/(1-p):\n",
    "            r_array.append(round(r,3))\n",
    "\n",
    "    L_array = [0] * len(r_array)\n",
    "\n",
    "    for ind, val in enumerate(r_array):\n",
    "        L_array[ind] = func(p,val,thresh)\n",
    "    \n",
    "    plt.scatter(r_array,L_array, label='p = %.2f' % p)\n",
    "        \n",
    "plt.title(\"Minimum Length Yielding Stable (slowly leaking) System\")\n",
    "plt.xlabel(\"r = r_3'/r_5'\")\n",
    "plt.ylabel(\"length in bp\")\n",
    "plt.legend()\n",
    "plt.show()\n",
    "\n",
    "\n",
    "\n",
    "\n",
    "\n"
   ]
  },
  {
   "cell_type": "code",
   "execution_count": null,
   "metadata": {},
   "outputs": [],
   "source": []
  }
 ],
 "metadata": {
  "kernelspec": {
   "display_name": "Python 3",
   "language": "python",
   "name": "python3"
  },
  "language_info": {
   "codemirror_mode": {
    "name": "ipython",
    "version": 3
   },
   "file_extension": ".py",
   "mimetype": "text/x-python",
   "name": "python",
   "nbconvert_exporter": "python",
   "pygments_lexer": "ipython3",
   "version": "3.8.3"
  }
 },
 "nbformat": 4,
 "nbformat_minor": 4
}
