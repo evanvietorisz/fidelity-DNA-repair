{
 "cells": [
  {
   "cell_type": "code",
   "execution_count": 113,
   "metadata": {},
   "outputs": [],
   "source": [
    "complementary = \"GACTGTGATTGAGTTGAAGGAGGACGTTGGCAGTGAGGTTACTT\"\n",
    "outgoing = \"AAGTAACACTCACTGCCAACGTCCTCCTTCAACTCAATCACAGTC\"\n",
    "invading = \"GCAACAGGAAGTACGACTAGCTTTTTTATTTTTTATTTATTTTACGTCCTCCTTCAACTCAATCACAGTC\"\n",
    "invading3F = \"GCAACAGGAAGTACGACTAGCTTTAAGTAACACTCACTGCCAACGTCCTCCTTCAACTCAATCACAGTC\""
   ]
  },
  {
   "cell_type": "code",
   "execution_count": 100,
   "metadata": {},
   "outputs": [
    {
     "name": "stdout",
     "output_type": "stream",
     "text": [
      "5' to 3' \n",
      "\n",
      "invading = GCAACAGGAAGTACGACTAGCTTTTTTATTTTTTATTTATTTTACGTCCTCCTTCAACTCAATCACAGTC \n",
      "\n",
      "complementary = GACTGTGATTGAGTTGAAGGAGGACGTTGGCAGTGAGGTTACTT \n",
      "\n",
      "outgoing =  AAGTAACACTCACTGCCAACGTCCTCCTTCAACTCAATCACAGTC \n",
      "\n"
     ]
    }
   ],
   "source": [
    "print(\"5' to 3' \\n\")\n",
    "print('invading =',invading,'\\n')\n",
    "print('complementary =', complementary,'\\n')\n",
    "print('outgoing = ',outgoing,'\\n')"
   ]
  },
  {
   "cell_type": "code",
   "execution_count": 101,
   "metadata": {},
   "outputs": [
    {
     "name": "stdout",
     "output_type": "stream",
     "text": [
      "GACTGTGATTGAGTTGAAGGAGGACGTTGGCAGTGAGGTTACTT\n",
      "CTGACACTAACTCAACTTCCTCCTGCAACCGTCACTCACAATGAA\n"
     ]
    }
   ],
   "source": [
    "print(complementary[:])\n",
    "print(outgoing[::-1])"
   ]
  },
  {
   "cell_type": "code",
   "execution_count": 102,
   "metadata": {},
   "outputs": [],
   "source": [
    "def seq_compare(seq1,seq2): #seq2 could be longer than seq1 and still have this work\n",
    "    for index,letter in enumerate(seq1):\n",
    "        if letter == 'G':\n",
    "            if seq2[index] != 'C':\n",
    "                print('mismatch at seq1 index = ',index)\n",
    "        if letter == 'C':\n",
    "            if seq2[index] != 'G':\n",
    "                print('mismatch at seq1 index = ',index)\n",
    "        if letter == 'A':\n",
    "            if seq2[index] != 'T':\n",
    "                print('mismatch at seq1 index = ',index)\n",
    "        if letter == 'T':\n",
    "            if seq2[index] != 'A':\n",
    "                print('mismatch at seq1 index = ',index)\n",
    "    return\n",
    "                "
   ]
  },
  {
   "cell_type": "code",
   "execution_count": 103,
   "metadata": {},
   "outputs": [
    {
     "name": "stdout",
     "output_type": "stream",
     "text": [
      "mismatch at seq1 index =  37\n",
      "mismatch at seq1 index =  38\n",
      "mismatch at seq1 index =  40\n",
      "mismatch at seq1 index =  41\n",
      "mismatch at seq1 index =  42\n"
     ]
    }
   ],
   "source": [
    "seq_compare(complementary,outgoing[::-1])"
   ]
  },
  {
   "cell_type": "code",
   "execution_count": 105,
   "metadata": {},
   "outputs": [
    {
     "data": {
      "text/plain": [
       "70"
      ]
     },
     "execution_count": 105,
     "metadata": {},
     "output_type": "execute_result"
    }
   ],
   "source": [
    "len(invading)"
   ]
  },
  {
   "cell_type": "code",
   "execution_count": 109,
   "metadata": {},
   "outputs": [
    {
     "name": "stdout",
     "output_type": "stream",
     "text": [
      "\n",
      "\n",
      "\n",
      "\n",
      "CTGACACTAACTCAACTTCCTCCTGCATTTTATTTATTTTTTATTTTTTCGATCAGCATGAAGGACAACG\n",
      "GACTGTGATTGAGTTGAAGGAGGACGTTGGCAGTGAGGTTACTT\n",
      "CTGACACTAACTCAACTTCCTCCTGCAACCGTCACTCACAATGAA\n",
      "\n",
      "\n",
      "\n",
      "\n"
     ]
    }
   ],
   "source": [
    "print('\\n\\n\\n')\n",
    "print(invading[::-1])\n",
    "print(complementary)\n",
    "print(outgoing[::-1])\n",
    "print('\\n\\n\\n')"
   ]
  },
  {
   "cell_type": "code",
   "execution_count": 98,
   "metadata": {},
   "outputs": [
    {
     "data": {
      "text/plain": [
       "68"
      ]
     },
     "execution_count": 98,
     "metadata": {},
     "output_type": "execute_result"
    }
   ],
   "source": [
    "len(invading)"
   ]
  },
  {
   "cell_type": "code",
   "execution_count": 114,
   "metadata": {},
   "outputs": [
    {
     "name": "stdout",
     "output_type": "stream",
     "text": [
      "3F\n",
      "\n",
      "\n",
      "\n",
      "\n",
      "CTGACACTAACTCAACTTCCTCCTGCAACCGTCACTCACAATGAATTTCGATCAGCATGAAGGACAACG\n",
      "CTGACACTAACTCAACTTCCTCCTGCAACCGTCACTCACAATGAA\n",
      "\n",
      "\n",
      "\n",
      "\n"
     ]
    }
   ],
   "source": [
    "print('3F')\n",
    "print('\\n\\n\\n')\n",
    "print(invading3F[::-1])\n",
    "print(outgoing[::-1])\n",
    "print('\\n\\n\\n')"
   ]
  },
  {
   "cell_type": "code",
   "execution_count": null,
   "metadata": {},
   "outputs": [],
   "source": []
  }
 ],
 "metadata": {
  "kernelspec": {
   "display_name": "Python 3",
   "language": "python",
   "name": "python3"
  },
  "language_info": {
   "codemirror_mode": {
    "name": "ipython",
    "version": 3
   },
   "file_extension": ".py",
   "mimetype": "text/x-python",
   "name": "python",
   "nbconvert_exporter": "python",
   "pygments_lexer": "ipython3",
   "version": "3.8.3"
  }
 },
 "nbformat": 4,
 "nbformat_minor": 4
}
